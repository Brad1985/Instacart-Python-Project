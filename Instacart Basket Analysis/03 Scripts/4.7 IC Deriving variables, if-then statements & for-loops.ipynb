{
 "cells": [
  {
   "cell_type": "markdown",
   "metadata": {},
   "source": [
    "## 4.7 Deriving variables, if-then statements & for-loops"
   ]
  },
  {
   "cell_type": "code",
   "execution_count": 2,
   "metadata": {},
   "outputs": [],
   "source": [
    "# import libraries\n",
    "import pandas as pd\n",
    "import numpy as np\n",
    "import os"
   ]
  },
  {
   "cell_type": "code",
   "execution_count": 3,
   "metadata": {},
   "outputs": [],
   "source": [
    "# import the 'orders_products_merged.pkl' dataset\n",
    "df_ords_merged = pd.read_pickle(r'C:\\Users\\Ansgar.S\\Uyen\\OneDrive\\Documents\\Data Immersion\\Achievement IV - Python Fundamentals for Data Analysts\\02-2023 Instacart Basket Analysis\\02 Data\\Prepared Data\\orders_products_merged.pkl')"
   ]
  },
  {
   "cell_type": "markdown",
   "metadata": {},
   "source": [
    "#### 1. Create the 'price_label' column"
   ]
  },
  {
   "cell_type": "code",
   "execution_count": 4,
   "metadata": {},
   "outputs": [
    {
     "name": "stdout",
     "output_type": "stream",
     "text": [
      "Number of rows and columns of df_ords_merged:\n",
      " (32404859, 14)\n",
      "\n",
      "Output of df_ords_merged:\n",
      "    product_id                product_name  aisle_id  department_id  prices  \\\n",
      "0           1  Chocolate Sandwich Cookies        61             19     5.8   \n",
      "1           1  Chocolate Sandwich Cookies        61             19     5.8   \n",
      "2           1  Chocolate Sandwich Cookies        61             19     5.8   \n",
      "3           1  Chocolate Sandwich Cookies        61             19     5.8   \n",
      "4           1  Chocolate Sandwich Cookies        61             19     5.8   \n",
      "\n",
      "   order_id  user_id  user_order_number  orders_day_of_week  \\\n",
      "0   3139998      138                 28                   6   \n",
      "1   1977647      138                 30                   6   \n",
      "2    389851      709                  2                   0   \n",
      "3    652770      764                  1                   3   \n",
      "4   1813452      764                  3                   4   \n",
      "\n",
      "   order_hour_of_day  days_since_prior_order  is_new_customer  \\\n",
      "0                 11                     3.0                0   \n",
      "1                 17                    20.0                0   \n",
      "2                 21                     6.0                0   \n",
      "3                 13                     NaN                1   \n",
      "4                 17                     9.0                0   \n",
      "\n",
      "   add_to_cart_order  reordered  \n",
      "0                  5          0  \n",
      "1                  1          1  \n",
      "2                 20          0  \n",
      "3                 10          0  \n",
      "4                 11          1  \n"
     ]
    }
   ],
   "source": [
    "# check output of df_ords_merged\n",
    "print('Number of rows and columns of df_ords_merged:\\n', df_ords_merged.shape)\n",
    "print('\\nOutput of df_ords_merged:\\n', df_ords_merged.head(5))"
   ]
  },
  {
   "cell_type": "code",
   "execution_count": 5,
   "metadata": {},
   "outputs": [],
   "source": [
    "# create the 'price_range' column to determine the products' price range\n",
    "df_ords_merged.loc[df_ords_merged['prices'] > 15, 'price_range'] = 'High-range product'"
   ]
  },
  {
   "cell_type": "code",
   "execution_count": 6,
   "metadata": {},
   "outputs": [],
   "source": [
    "df_ords_merged.loc[(df_ords_merged['prices'] <= 15) & (df_ords_merged['prices'] > 5), 'price_range'] = 'Mid-range product' "
   ]
  },
  {
   "cell_type": "code",
   "execution_count": 7,
   "metadata": {},
   "outputs": [],
   "source": [
    "df_ords_merged.loc[df_ords_merged['prices'] <= 5, 'price_range'] = 'Low-range product'"
   ]
  },
  {
   "cell_type": "code",
   "execution_count": 8,
   "metadata": {},
   "outputs": [
    {
     "name": "stdout",
     "output_type": "stream",
     "text": [
      "\n",
      "Output of df_ords_merged:\n",
      "    product_id                product_name  aisle_id  department_id  prices  \\\n",
      "0           1  Chocolate Sandwich Cookies        61             19     5.8   \n",
      "1           1  Chocolate Sandwich Cookies        61             19     5.8   \n",
      "2           1  Chocolate Sandwich Cookies        61             19     5.8   \n",
      "3           1  Chocolate Sandwich Cookies        61             19     5.8   \n",
      "4           1  Chocolate Sandwich Cookies        61             19     5.8   \n",
      "\n",
      "   order_id  user_id  user_order_number  orders_day_of_week  \\\n",
      "0   3139998      138                 28                   6   \n",
      "1   1977647      138                 30                   6   \n",
      "2    389851      709                  2                   0   \n",
      "3    652770      764                  1                   3   \n",
      "4   1813452      764                  3                   4   \n",
      "\n",
      "   order_hour_of_day  days_since_prior_order  is_new_customer  \\\n",
      "0                 11                     3.0                0   \n",
      "1                 17                    20.0                0   \n",
      "2                 21                     6.0                0   \n",
      "3                 13                     NaN                1   \n",
      "4                 17                     9.0                0   \n",
      "\n",
      "   add_to_cart_order  reordered        price_range  \n",
      "0                  5          0  Mid-range product  \n",
      "1                  1          1  Mid-range product  \n",
      "2                 20          0  Mid-range product  \n",
      "3                 10          0  Mid-range product  \n",
      "4                 11          1  Mid-range product  \n"
     ]
    }
   ],
   "source": [
    "# check the output of df_ords_merged\n",
    "print('\\nOutput of df_ords_merged:\\n', df_ords_merged.head(5))"
   ]
  },
  {
   "cell_type": "code",
   "execution_count": 9,
   "metadata": {},
   "outputs": [
    {
     "name": "stdout",
     "output_type": "stream",
     "text": [
      "\n",
      "Number of rows and columns of df_ords_merged:\n",
      " (32404859, 15)\n",
      "\n",
      "Values in the price_range column:\n",
      " Mid-range product     21860860\n",
      "Low-range product     10126321\n",
      "High-range product      417678\n",
      "Name: price_range, dtype: int64\n"
     ]
    }
   ],
   "source": [
    "# check the dimensions and output of df_ords_merged\n",
    "print('\\nNumber of rows and columns of df_ords_merged:\\n', df_ords_merged.shape)\n",
    "print('\\nValues in the price_range column:\\n', df_ords_merged['price_range'].value_counts())"
   ]
  },
  {
   "cell_type": "markdown",
   "metadata": {},
   "source": [
    "#### 2. Create the 'busiest_day' column"
   ]
  },
  {
   "cell_type": "code",
   "execution_count": 10,
   "metadata": {},
   "outputs": [
    {
     "name": "stdout",
     "output_type": "stream",
     "text": [
      "Frequency of values in the orders_day_of_week column:\n",
      " 0    6204182\n",
      "1    5660230\n",
      "6    4496490\n",
      "2    4213830\n",
      "5    4205791\n",
      "3    3840534\n",
      "4    3783802\n",
      "Name: orders_day_of_week, dtype: int64\n"
     ]
    }
   ],
   "source": [
    "# get the frequency of the values in the 'orders_day_of_week' column\n",
    "print('Frequency of values in the orders_day_of_week column:\\n', df_ords_merged['orders_day_of_week'].value_counts())"
   ]
  },
  {
   "cell_type": "code",
   "execution_count": 11,
   "metadata": {},
   "outputs": [],
   "source": [
    "# create a for-loop that append to the 'result' list the busyness of the days based on values in the 'orders_day_of_week' column\n",
    "result = []\n",
    "\n",
    "for value in df_ords_merged['orders_day_of_week']:\n",
    "  if value == 0:\n",
    "    result.append('Busiest day')\n",
    "  elif value == 4:\n",
    "    result.append('Least busy')\n",
    "  else:\n",
    "    result.append('Regularly busy')"
   ]
  },
  {
   "cell_type": "code",
   "execution_count": 12,
   "metadata": {},
   "outputs": [
    {
     "name": "stdout",
     "output_type": "stream",
     "text": [
      "Frequency of values in the busiest_day column:\n",
      " Regularly busy    22416875\n",
      "Busiest day        6204182\n",
      "Least busy         3783802\n",
      "Name: busiest_day, dtype: int64\n"
     ]
    }
   ],
   "source": [
    "# create the 'busiest_day' column\n",
    "df_ords_merged['busiest_day'] = result\n",
    "\n",
    "# get the frequency of the values in the 'busiest_day' column\n",
    "print('Frequency of values in the busiest_day column:\\n', df_ords_merged['busiest_day'].value_counts())"
   ]
  },
  {
   "cell_type": "markdown",
   "metadata": {},
   "source": [
    "#### 3. Create the 'busiest_days' column"
   ]
  },
  {
   "cell_type": "code",
   "execution_count": 13,
   "metadata": {},
   "outputs": [
    {
     "name": "stdout",
     "output_type": "stream",
     "text": [
      "Frequency of values in the orders_day_of_week column:\n",
      " 0    6204182\n",
      "1    5660230\n",
      "6    4496490\n",
      "2    4213830\n",
      "5    4205791\n",
      "3    3840534\n",
      "4    3783802\n",
      "Name: orders_day_of_week, dtype: int64\n"
     ]
    }
   ],
   "source": [
    "# get the frequency of the values in the 'orders_day_of_week' column\n",
    "print('Frequency of values in the orders_day_of_week column:\\n', df_ords_merged['orders_day_of_week'].value_counts())"
   ]
  },
  {
   "cell_type": "markdown",
   "metadata": {},
   "source": [
    "###### Observations: The two busiest days are 0 (Saturday) and 1 (Sunday). The two slowest days are 4 (Wednesday) and 3 (Tuesday)."
   ]
  },
  {
   "cell_type": "code",
   "execution_count": 15,
   "metadata": {},
   "outputs": [],
   "source": [
    "# create a for-loop that append to the 'days' list the busyness of the days based on values in the 'orders_day_of_week' column\n",
    "days = []\n",
    "\n",
    "for day in df_ords_merged['orders_day_of_week']:\n",
    "  if day == 0 or day == 1:\n",
    "    days.append('Busiest days')\n",
    "  elif day == 4 or day == 3:\n",
    "    days.append('Slowest days')\n",
    "  else:\n",
    "    days.append('Regular days')"
   ]
  },
  {
   "cell_type": "code",
   "execution_count": 16,
   "metadata": {},
   "outputs": [
    {
     "name": "stdout",
     "output_type": "stream",
     "text": [
      "Frequency of values in the busiest_days column:\n",
      " Regular days    12916111\n",
      "Busiest days    11864412\n",
      "Slowest days     7624336\n",
      "Name: busiest_days, dtype: int64\n"
     ]
    }
   ],
   "source": [
    "# create the 'busiest_days' column\n",
    "df_ords_merged['busiest_days'] = days\n",
    "\n",
    "# get the frequency of the values in the 'busiest_days' column\n",
    "print('Frequency of values in the busiest_days column:\\n', df_ords_merged['busiest_days'].value_counts())"
   ]
  },
  {
   "cell_type": "code",
   "execution_count": 18,
   "metadata": {},
   "outputs": [
    {
     "name": "stdout",
     "output_type": "stream",
     "text": [
      "Output of the orders_day_of_week and the busiest_days column:\n",
      "    orders_day_of_week  busiest_days\n",
      "0                   6  Regular days\n",
      "1                   6  Regular days\n",
      "2                   0  Busiest days\n",
      "3                   3  Slowest days\n",
      "4                   4  Slowest days\n",
      "5                   1  Busiest days\n",
      "6                   2  Regular days\n",
      "7                   3  Slowest days\n",
      "8                   1  Busiest days\n",
      "9                   1  Busiest days\n"
     ]
    }
   ],
   "source": [
    "# check the output of the 'orders_day_of_week' and the 'busiest_days' column for accuracy\n",
    "print('Output of the orders_day_of_week and the busiest_days column:\\n', df_ords_merged[['orders_day_of_week', 'busiest_days']].head(10))"
   ]
  },
  {
   "cell_type": "markdown",
   "metadata": {},
   "source": [
    "#### 4. Create the 'busiest_period_of_day' column"
   ]
  },
  {
   "cell_type": "code",
   "execution_count": 48,
   "metadata": {},
   "outputs": [
    {
     "name": "stdout",
     "output_type": "stream",
     "text": [
      "Frequency of values in the order_hour_of_day column:\n",
      " 10    2761760\n",
      "11    2736140\n",
      "14    2689136\n",
      "15    2662144\n",
      "13    2660954\n",
      "12    2618532\n",
      "16    2535202\n",
      "9     2454203\n",
      "17    2087654\n",
      "8     1718118\n",
      "18    1636502\n",
      "19    1258305\n",
      "20     976156\n",
      "7      891054\n",
      "21     795637\n",
      "22     634225\n",
      "23     402316\n",
      "6      290493\n",
      "0      218769\n",
      "1      115700\n",
      "5       87961\n",
      "2       69375\n",
      "4       53242\n",
      "3       51281\n",
      "Name: order_hour_of_day, dtype: int64\n"
     ]
    }
   ],
   "source": [
    "# get the frequency of the values in the 'order_hour_of_day' column\n",
    "print('Frequency of values in the order_hour_of_day column:\\n', df_ords_merged['order_hour_of_day'].value_counts())"
   ]
  },
  {
   "cell_type": "markdown",
   "metadata": {},
   "source": [
    "###### Observations: The 24 hours of the day can be split into three parts, with each part classified as having either 'Most orders' (hour 10, 11, 14, 15, 13, 12, 16, 9 - from 9am to 4pm), 'Average orders' (hour 17, 8, 18, 19, 20, 7, 21, 22 - from 7am to 8am and from 5pm to 10pm), or 'Fewest orders' (hour 23, 6, 0, 1, 5, 2, 4, 3 - from 11pm to 6am)."
   ]
  },
  {
   "cell_type": "code",
   "execution_count": 45,
   "metadata": {},
   "outputs": [],
   "source": [
    "# create a for-loop that append to the 'hours' list the busyness of the hours based on values in the 'order_hour_of_day' column\n",
    "hours = []\n",
    "\n",
    "for hour in df_ords_merged['order_hour_of_day']:\n",
    "  if hour in [10, 11, 14, 15, 13, 12, 16, 9]:\n",
    "    hours.append('Most orders')\n",
    "  elif hour in [23, 6, 0, 1, 5, 2, 4, 3]:\n",
    "    hours.append('Fewest orders')\n",
    "  else:\n",
    "    hours.append('Average orders')"
   ]
  },
  {
   "cell_type": "code",
   "execution_count": 46,
   "metadata": {},
   "outputs": [],
   "source": [
    "# create the 'busiest_period_of_day' column\n",
    "df_ords_merged['busiest_period_of_day'] = hours"
   ]
  },
  {
   "cell_type": "code",
   "execution_count": 47,
   "metadata": {},
   "outputs": [
    {
     "data": {
      "text/html": [
       "<div>\n",
       "<style scoped>\n",
       "    .dataframe tbody tr th:only-of-type {\n",
       "        vertical-align: middle;\n",
       "    }\n",
       "\n",
       "    .dataframe tbody tr th {\n",
       "        vertical-align: top;\n",
       "    }\n",
       "\n",
       "    .dataframe thead th {\n",
       "        text-align: right;\n",
       "    }\n",
       "</style>\n",
       "<table border=\"1\" class=\"dataframe\">\n",
       "  <thead>\n",
       "    <tr style=\"text-align: right;\">\n",
       "      <th></th>\n",
       "      <th>order_hour_of_day</th>\n",
       "      <th>busiest_period_of_day</th>\n",
       "    </tr>\n",
       "  </thead>\n",
       "  <tbody>\n",
       "    <tr>\n",
       "      <th>0</th>\n",
       "      <td>11</td>\n",
       "      <td>Most orders</td>\n",
       "    </tr>\n",
       "    <tr>\n",
       "      <th>1</th>\n",
       "      <td>17</td>\n",
       "      <td>Average orders</td>\n",
       "    </tr>\n",
       "    <tr>\n",
       "      <th>2</th>\n",
       "      <td>21</td>\n",
       "      <td>Average orders</td>\n",
       "    </tr>\n",
       "    <tr>\n",
       "      <th>3</th>\n",
       "      <td>13</td>\n",
       "      <td>Most orders</td>\n",
       "    </tr>\n",
       "    <tr>\n",
       "      <th>4</th>\n",
       "      <td>17</td>\n",
       "      <td>Average orders</td>\n",
       "    </tr>\n",
       "    <tr>\n",
       "      <th>5</th>\n",
       "      <td>7</td>\n",
       "      <td>Average orders</td>\n",
       "    </tr>\n",
       "    <tr>\n",
       "      <th>6</th>\n",
       "      <td>14</td>\n",
       "      <td>Most orders</td>\n",
       "    </tr>\n",
       "    <tr>\n",
       "      <th>7</th>\n",
       "      <td>10</td>\n",
       "      <td>Most orders</td>\n",
       "    </tr>\n",
       "    <tr>\n",
       "      <th>8</th>\n",
       "      <td>20</td>\n",
       "      <td>Average orders</td>\n",
       "    </tr>\n",
       "    <tr>\n",
       "      <th>9</th>\n",
       "      <td>12</td>\n",
       "      <td>Most orders</td>\n",
       "    </tr>\n",
       "  </tbody>\n",
       "</table>\n",
       "</div>"
      ],
      "text/plain": [
       "   order_hour_of_day busiest_period_of_day\n",
       "0                 11           Most orders\n",
       "1                 17        Average orders\n",
       "2                 21        Average orders\n",
       "3                 13           Most orders\n",
       "4                 17        Average orders\n",
       "5                  7        Average orders\n",
       "6                 14           Most orders\n",
       "7                 10           Most orders\n",
       "8                 20        Average orders\n",
       "9                 12           Most orders"
      ]
     },
     "execution_count": 47,
     "metadata": {},
     "output_type": "execute_result"
    }
   ],
   "source": [
    "# check the output of the 'order_hour_of_day' and the 'busiest_period_of_day' column for accuracy\n",
    "df_ords_merged[['order_hour_of_day', 'busiest_period_of_day']].head(10)"
   ]
  },
  {
   "cell_type": "code",
   "execution_count": 49,
   "metadata": {},
   "outputs": [
    {
     "name": "stdout",
     "output_type": "stream",
     "text": [
      "Frequency of values in the busiest_period_of_day column:\n",
      " Most orders       21118071\n",
      "Average orders     9997651\n",
      "Fewest orders      1289137\n",
      "Name: busiest_period_of_day, dtype: int64\n"
     ]
    }
   ],
   "source": [
    "# get the frequency of the values in the 'busiest_period_of_day' column\n",
    "print('Frequency of values in the busiest_period_of_day column:\\n', df_ords_merged['busiest_period_of_day'].value_counts())"
   ]
  },
  {
   "cell_type": "code",
   "execution_count": 50,
   "metadata": {},
   "outputs": [],
   "source": [
    "# export df_ords_merged in .pkl format\n",
    "df_ords_merged.to_pickle(r'C:\\Users\\Ansgar.S\\Uyen\\OneDrive\\Documents\\Data Immersion\\Achievement IV - Python Fundamentals for Data Analysts\\02-2023 Instacart Basket Analysis\\02 Data\\Prepared Data\\orders_products_merged_2.pkl')"
   ]
  }
 ],
 "metadata": {
  "kernelspec": {
   "display_name": "Python 3 (ipykernel)",
   "language": "python",
   "name": "python3"
  },
  "language_info": {
   "codemirror_mode": {
    "name": "ipython",
    "version": 3
   },
   "file_extension": ".py",
   "mimetype": "text/x-python",
   "name": "python",
   "nbconvert_exporter": "python",
   "pygments_lexer": "ipython3",
   "version": "3.11.4"
  },
  "vscode": {
   "interpreter": {
    "hash": "5238573367df39f7286bb46f9ff5f08f63a01a80960060ce41e3c79b190280fa"
   }
  }
 },
 "nbformat": 4,
 "nbformat_minor": 2
}
